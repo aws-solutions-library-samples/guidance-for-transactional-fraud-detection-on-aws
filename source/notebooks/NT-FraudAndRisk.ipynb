{
 "cells": [
  {
   "cell_type": "code",
   "execution_count": null,
   "id": "7d21c67b",
   "metadata": {},
   "outputs": [],
   "source": [
    "%%graph_notebook_vis_options\n",
    "{\n",
    "  \"edges\": {\n",
    "    \"color\": {\n",
    "      \"inherit\": false\n",
    "    },\n",
    "    \"smooth\": {\n",
    "      \"enabled\": true,\n",
    "      \"type\": \"dynamic\"\n",
    "    },\n",
    "    \"arrows\": {\n",
    "      \"to\": {\n",
    "        \"enabled\": true,\n",
    "        \"type\": \"arrow\"\n",
    "      }\n",
    "    },\n",
    "    \"font\": {\n",
    "      \"face\": \"courier new\"\n",
    "    }\n",
    "  }\n",
    "}"
   ]
  },
  {
   "cell_type": "markdown",
   "id": "d62d49c6",
   "metadata": {},
   "source": [
    "### Preview the Graph"
   ]
  },
  {
   "cell_type": "code",
   "execution_count": null,
   "id": "6eb59d5e",
   "metadata": {},
   "outputs": [],
   "source": [
    "%%gremlin\n",
    "\n",
    "g.V().groupCount().by(label)"
   ]
  },
  {
   "cell_type": "code",
   "execution_count": null,
   "id": "ee54a25f",
   "metadata": {},
   "outputs": [],
   "source": [
    "%%gremlin\n",
    "\n",
    "g.E().groupCount().by(label)"
   ]
  },
  {
   "cell_type": "markdown",
   "id": "4c5562f1",
   "metadata": {},
   "source": [
    "### Run Fraud analysis query \n",
    "\n",
    "As part of solution, suspected fraudulent transacation are captured in the Amazon Timestream. We can do deeper analysis on the identified accoutns by running a graph query. The query would identify suspected fraud ring starting from the accoutns of interest."
   ]
  },
  {
   "cell_type": "code",
   "execution_count": null,
   "id": "2da09444",
   "metadata": {},
   "outputs": [],
   "source": [
    "set accountid = \"1234-5678-22\""
   ]
  },
  {
   "cell_type": "code",
   "execution_count": null,
   "id": "dd7616d1",
   "metadata": {},
   "outputs": [],
   "source": [
    "%%gremlin\n",
    "\n",
    "g.V($accountid).emit()\n",
    "    .repeat(bothE(\"hasemail\",\"hasphone\").otherV().simplePath())\n",
    "    .times(4)\n",
    "        .path().by(elementMap())"
   ]
  }
 ],
 "metadata": {
  "kernelspec": {
   "display_name": "Python 3",
   "language": "python",
   "name": "python3"
  },
  "language_info": {
   "codemirror_mode": {
    "name": "ipython",
    "version": 3
   },
   "file_extension": ".py",
   "mimetype": "text/x-python",
   "name": "python",
   "nbconvert_exporter": "python",
   "pygments_lexer": "ipython3",
   "version": "3.10.8"
  }
 },
 "nbformat": 4,
 "nbformat_minor": 5
}
